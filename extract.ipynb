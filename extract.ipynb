{
 "cells": [
  {
   "cell_type": "code",
   "execution_count": 4,
   "id": "9cdbd4f0",
   "metadata": {},
   "outputs": [],
   "source": [
    "import pandas as pd\n",
    "\n",
    "# Load all datasets\n",
    "train_df = pd.read_csv(\"E:\\\\Jayadhi_Limited\\\\train.csv\")\n",
    "val_df = pd.read_csv(\"E:\\\\Jayadhi_Limited\\\\val.csv\")\n",
    "test_df = pd.read_csv(\"E:\\\\Jayadhi_Limited\\\\test.csv\")  # corrected\n",
    "\n",
    "# Combine\n",
    "full_df = pd.concat([train_df, val_df, test_df], ignore_index=True)\n",
    "full_df[\"Text\"] = full_df[\"Text\"].astype(str).str.lower()"
   ]
  },
  {
   "cell_type": "code",
   "execution_count": 5,
   "id": "fd032e6d",
   "metadata": {},
   "outputs": [],
   "source": [
    "# Group and extract short triggers per emotion\n",
    "triggers = {}\n",
    "\n",
    "for emotion in full_df[\"Emotion\"].unique():\n",
    "    emotion_df = full_df[full_df[\"Emotion\"] == emotion]\n",
    "    emotion_df = emotion_df.assign(length=emotion_df[\"Text\"].str.len())\n",
    "    emotion_df = emotion_df.sort_values(by=\"length\")\n",
    "    samples = emotion_df[\"Text\"].unique()[:15]  # take top 15\n",
    "    triggers[emotion] = samples"
   ]
  },
  {
   "cell_type": "code",
   "execution_count": 6,
   "id": "432e78e9",
   "metadata": {},
   "outputs": [],
   "source": [
    "# Build trigger map\n",
    "trigger_map = {}\n",
    "for emotion, phrases in triggers.items():\n",
    "    for phrase in phrases:\n",
    "        phrase = phrase.strip()\n",
    "        if phrase and phrase not in trigger_map:\n",
    "            trigger_map[phrase] = emotion\n"
   ]
  },
  {
   "cell_type": "code",
   "execution_count": 7,
   "id": "39ef0de4",
   "metadata": {},
   "outputs": [],
   "source": [
    "response_map = {\n",
    "    \"joy\": \"That's wonderful to hear! 🌟\",\n",
    "    \"sadness\": \"I'm here for you. It's okay to feel this way.\",\n",
    "    \"anger\": \"It's okay to be angry. Want to vent a bit?\",\n",
    "    \"fear\": \"Take a deep breath — fear is natural.\",\n",
    "    \"love\": \"That sounds like a beautiful connection ❤️\",\n",
    "    \"surprise\": \"Whoa, that must've been unexpected!\",\n",
    "    \"unknown\": \"I'm not sure how to respond. Could you rephrase it?\"\n",
    "}\n"
   ]
  },
  {
   "cell_type": "code",
   "execution_count": 8,
   "id": "0f8bed21",
   "metadata": {},
   "outputs": [],
   "source": [
    "import json\n",
    "\n",
    "with open(\"dialog_flow.json\", \"w\") as f:\n",
    "    json.dump({\n",
    "        \"triggers\": trigger_map,\n",
    "        \"responses\": response_map\n",
    "    }, f, indent=2)\n"
   ]
  },
  {
   "cell_type": "code",
   "execution_count": null,
   "id": "23d10342",
   "metadata": {},
   "outputs": [],
   "source": []
  }
 ],
 "metadata": {
  "kernelspec": {
   "display_name": "Python 3",
   "language": "python",
   "name": "python3"
  },
  "language_info": {
   "codemirror_mode": {
    "name": "ipython",
    "version": 3
   },
   "file_extension": ".py",
   "mimetype": "text/x-python",
   "name": "python",
   "nbconvert_exporter": "python",
   "pygments_lexer": "ipython3",
   "version": "3.11.2"
  }
 },
 "nbformat": 4,
 "nbformat_minor": 5
}
